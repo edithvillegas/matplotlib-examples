{
 "cells": [
  {
   "cell_type": "code",
   "execution_count": 1,
   "metadata": {},
   "outputs": [],
   "source": [
    "import matplotlib.pyplot as plt\n",
    "import numpy as np\n",
    "import pandas as pd\n",
    "from matplotlib import cm\n",
    "from matplotlib.colors import ListedColormap\n",
    "import matplotlib.gridspec as gridspec\n",
    "from mpl_toolkits.axes_grid1 import make_axes_locatable"
   ]
  },
  {
   "cell_type": "code",
   "execution_count": 2,
   "metadata": {},
   "outputs": [],
   "source": [
    "#data\n",
    "file= r'../data/dose_grids_values.xlsx' \n",
    "v1_p5 = pd.read_excel(file, sheet_name='5')\n",
    "v1_p10 = pd.read_excel(file, sheet_name='10')\n",
    "v1_p15 = pd.read_excel(file, sheet_name='15')\n",
    "farmer = pd.read_excel(file, sheet_name='farmer_chamber')\n",
    "locations = [-10, -5, 0, 5, 10]\n",
    "cf = 3460 #calibration factor "
   ]
  },
  {
   "cell_type": "code",
   "execution_count": 3,
   "metadata": {},
   "outputs": [
    {
     "data": {
      "text/html": [
       "<div>\n",
       "<style scoped>\n",
       "    .dataframe tbody tr th:only-of-type {\n",
       "        vertical-align: middle;\n",
       "    }\n",
       "\n",
       "    .dataframe tbody tr th {\n",
       "        vertical-align: top;\n",
       "    }\n",
       "\n",
       "    .dataframe thead th {\n",
       "        text-align: right;\n",
       "    }\n",
       "</style>\n",
       "<table border=\"1\" class=\"dataframe\">\n",
       "  <thead>\n",
       "    <tr style=\"text-align: right;\">\n",
       "      <th></th>\n",
       "      <th>1</th>\n",
       "      <th>2</th>\n",
       "      <th>3</th>\n",
       "      <th>4</th>\n",
       "      <th>5</th>\n",
       "    </tr>\n",
       "  </thead>\n",
       "  <tbody>\n",
       "    <tr>\n",
       "      <th>a</th>\n",
       "      <td>NaN</td>\n",
       "      <td>NaN</td>\n",
       "      <td>6.831744</td>\n",
       "      <td>NaN</td>\n",
       "      <td>NaN</td>\n",
       "    </tr>\n",
       "    <tr>\n",
       "      <th>b</th>\n",
       "      <td>NaN</td>\n",
       "      <td>12.655708</td>\n",
       "      <td>7.687813</td>\n",
       "      <td>5.376975</td>\n",
       "      <td>NaN</td>\n",
       "    </tr>\n",
       "    <tr>\n",
       "      <th>c</th>\n",
       "      <td>20.904913</td>\n",
       "      <td>13.517341</td>\n",
       "      <td>7.847881</td>\n",
       "      <td>5.678998</td>\n",
       "      <td>3.943497</td>\n",
       "    </tr>\n",
       "    <tr>\n",
       "      <th>d</th>\n",
       "      <td>NaN</td>\n",
       "      <td>13.198902</td>\n",
       "      <td>8.159249</td>\n",
       "      <td>5.109538</td>\n",
       "      <td>NaN</td>\n",
       "    </tr>\n",
       "    <tr>\n",
       "      <th>e</th>\n",
       "      <td>NaN</td>\n",
       "      <td>NaN</td>\n",
       "      <td>6.917775</td>\n",
       "      <td>NaN</td>\n",
       "      <td>NaN</td>\n",
       "    </tr>\n",
       "  </tbody>\n",
       "</table>\n",
       "</div>"
      ],
      "text/plain": [
       "           1          2         3         4         5\n",
       "a        NaN        NaN  6.831744       NaN       NaN\n",
       "b        NaN  12.655708  7.687813  5.376975       NaN\n",
       "c  20.904913  13.517341  7.847881  5.678998  3.943497\n",
       "d        NaN  13.198902  8.159249  5.109538       NaN\n",
       "e        NaN        NaN  6.917775       NaN       NaN"
      ]
     },
     "execution_count": 3,
     "metadata": {},
     "output_type": "execute_result"
    }
   ],
   "source": [
    "v1_p5/cf"
   ]
  },
  {
   "cell_type": "code",
   "execution_count": 4,
   "metadata": {},
   "outputs": [
    {
     "data": {
      "text/html": [
       "<div>\n",
       "<style scoped>\n",
       "    .dataframe tbody tr th:only-of-type {\n",
       "        vertical-align: middle;\n",
       "    }\n",
       "\n",
       "    .dataframe tbody tr th {\n",
       "        vertical-align: top;\n",
       "    }\n",
       "\n",
       "    .dataframe thead th {\n",
       "        text-align: right;\n",
       "    }\n",
       "</style>\n",
       "<table border=\"1\" class=\"dataframe\">\n",
       "  <thead>\n",
       "    <tr style=\"text-align: right;\">\n",
       "      <th></th>\n",
       "      <th>depth_cm</th>\n",
       "      <th>-5</th>\n",
       "      <th>0</th>\n",
       "      <th>5</th>\n",
       "    </tr>\n",
       "  </thead>\n",
       "  <tbody>\n",
       "    <tr>\n",
       "      <th>0</th>\n",
       "      <td>5</td>\n",
       "      <td>13.942559</td>\n",
       "      <td>8.620997</td>\n",
       "      <td>5.739384</td>\n",
       "    </tr>\n",
       "    <tr>\n",
       "      <th>1</th>\n",
       "      <td>10</td>\n",
       "      <td>13.034249</td>\n",
       "      <td>8.628945</td>\n",
       "      <td>5.449860</td>\n",
       "    </tr>\n",
       "    <tr>\n",
       "      <th>2</th>\n",
       "      <td>15</td>\n",
       "      <td>11.728553</td>\n",
       "      <td>7.811466</td>\n",
       "      <td>5.035444</td>\n",
       "    </tr>\n",
       "  </tbody>\n",
       "</table>\n",
       "</div>"
      ],
      "text/plain": [
       "   depth_cm         -5         0         5\n",
       "0         5  13.942559  8.620997  5.739384\n",
       "1        10  13.034249  8.628945  5.449860\n",
       "2        15  11.728553  7.811466  5.035444"
      ]
     },
     "execution_count": 4,
     "metadata": {},
     "output_type": "execute_result"
    }
   ],
   "source": [
    "farmer"
   ]
  },
  {
   "cell_type": "code",
   "execution_count": 5,
   "metadata": {},
   "outputs": [],
   "source": [
    "#create color map from a base color map\n",
    "basemap= cm.get_cmap('coolwarm', 256) #rainbow\n",
    "newcolors = basemap(np.linspace(0, 1, 256))\n",
    "newcolors[:, 3] = 0.7\n",
    "newcmp = ListedColormap(newcolors)"
   ]
  },
  {
   "cell_type": "markdown",
   "metadata": {},
   "source": [
    "# Dose Value Grids"
   ]
  },
  {
   "cell_type": "code",
   "execution_count": 6,
   "metadata": {},
   "outputs": [],
   "source": [
    "#function for plotting the grid\n",
    "def plotgrid(grid_pd):\n",
    "    #create figure \n",
    "    fig, ax = plt.subplots()\n",
    "    \n",
    "    #round values for the matrix \n",
    "    matrix_grid = np.round(np.array(grid_pd), decimals=1) \n",
    "    \n",
    "    #create matrix using matshow\n",
    "    im = ax.matshow(matrix_grid, cmap=newcmp)  #choose color map we created\n",
    "\n",
    "    #add text with number value for each pixel in the matrix\n",
    "    for i in range(5):\n",
    "        for j in range(5):\n",
    "            c = matrix_grid[j,i]\n",
    "            if not np.isnan(c):\n",
    "                ax.text(i, j, str(c), va='center', ha='center')\n",
    "         \n",
    "    #ticks for the x, y axis\n",
    "    labels = [-15, -10, -5, 0, 5, 10]\n",
    "    ax.set_xticklabels(labels)\n",
    "    ax.set_yticklabels(labels)\n",
    "    ax.xaxis.set_ticks_position('bottom')\n",
    "    \n",
    "    #add labels to x, y axis\n",
    "    ax.set_ylabel('Lateral (cm)')\n",
    "    ax.set_xlabel('Longitudinal (cm)')\n",
    "\n",
    "    #add colorbar with label\n",
    "    fig.colorbar(im, label='Dose (cGy)')\n",
    "    \n",
    "    return ax, fig"
   ]
  },
  {
   "cell_type": "code",
   "execution_count": 7,
   "metadata": {
    "scrolled": true
   },
   "outputs": [
    {
     "data": {
      "text/plain": [
       "Text(0.5,1.05,'depth = 10 cm')"
      ]
     },
     "execution_count": 7,
     "metadata": {},
     "output_type": "execute_result"
    },
    {
     "data": {
      "image/png": "[encoded data removed]",
      "text/plain": [
       "<Figure size 432x288 with 2 Axes>"
      ]
     },
     "metadata": {},
     "output_type": "display_data"
    }
   ],
   "source": [
    "#plot a grid figure\n",
    "ax, fig = plotgrid(v1_p10/cf)\n",
    "ax.set_title('depth = 10 cm')"
   ]
  },
  {
   "cell_type": "markdown",
   "metadata": {},
   "source": [
    "# Farmer Comparison"
   ]
  },
  {
   "cell_type": "code",
   "execution_count": 8,
   "metadata": {},
   "outputs": [],
   "source": [
    "#slightly modified version of the function\n",
    "def plotgrid(grid_pd, ax, fig):\n",
    "    \n",
    "    #round values for the matrix \n",
    "    matrix_grid = np.round(np.array(grid_pd), decimals=1) \n",
    "    \n",
    "    #create matrix using matshow\n",
    "    im = ax.matshow(matrix_grid, cmap=newcmp)  #choose color map we created\n",
    "\n",
    "    #add text with number value for each pixel in the matrix\n",
    "    for i in range(5):\n",
    "        for j in range(5):\n",
    "            c = matrix_grid[j,i]\n",
    "            if not np.isnan(c):\n",
    "                ax.text(i, j, str(c), va='center', ha='center')\n",
    "         \n",
    "    #ticks for the x, y axis\n",
    "    labels = [-15, -10, -5, 0, 5, 10]\n",
    "    ax.set_xticklabels(labels)\n",
    "    ax.set_yticklabels(labels)\n",
    "    ax.xaxis.set_ticks_position('bottom')\n",
    "\n",
    "    #add labels to x, y axis\n",
    "    ax.set_ylabel('Lateral (cm)')\n",
    "    ax.set_xlabel('Longitudinal (cm)')\n",
    "\n",
    "    #add colorbar with label\n",
    "    fig.colorbar(im, label='Dose (cGy)')\n",
    "    \n",
    "    return ax, fig"
   ]
  },
  {
   "cell_type": "code",
   "execution_count": 16,
   "metadata": {},
   "outputs": [],
   "source": [
    "def resplot(grid, chamber, title, errorp=0.037, locations=locations): #errorp is the error % for the error plot\n",
    "\n",
    "    #create the figure and set the ratios for the different plots\n",
    "    fig = plt.figure(figsize=(13, 5))\n",
    "    gs = gridspec.GridSpec(nrows=2, ncols= 2, height_ratios=[3,1], width_ratios=[1,1])\n",
    "    \n",
    "    #add a subplot and plot a matrix on it\n",
    "    ax0 = fig.add_subplot(gs[0:, 0])\n",
    "    plotgrid(grid, ax0, fig)\n",
    "\n",
    "    #add to subplots with a shared x axis to plot longitudinal dose and response\n",
    "    ax2 = fig.add_subplot(gs[1, 1])\n",
    "    ax1 = fig.add_subplot(gs[0, 1], sharex=ax2)\n",
    "    plt.setp(ax1.get_xticklabels(), visible=False)\n",
    "\n",
    "    #longitudinal dose with error bars\n",
    "    #error is just a percentage (errorp) of values \n",
    "    ax1.errorbar(locations, grid.loc['c'], yerr=grid.loc['c']*errorp, fmt='c.', capsize=3, label='nanoDots')\n",
    "    ax1.plot(chamber[1:4], 'rx', label='Farmer Chamber')\n",
    "    ax1.legend()\n",
    "    ax1.set_ylabel('Dose (cGy)')\n",
    "    ax1.set_title('Longitudinal Dose Profile')\n",
    "\n",
    "    #response plot\n",
    "    response = np.array(grid.loc['c'][1:4])/np.array((chamber[1:4])) #calculate response (ratio)\n",
    "    ax2.errorbar([-5,0,5], response, yerr=response*errorp, fmt='k.', capsize=3, label='OSLD/IC')\n",
    "    ax2.hlines(xmin=-10, xmax=10, y=1, linestyles='--') #plot horizontal line at y=1\n",
    "    ax2.legend(loc='upper right')\n",
    "    ax2.set_ylabel('Response')\n",
    "    ax2.set_xlabel('Distance (cm)')\n",
    "\n",
    "    #add a title for the whole figure\n",
    "    fig.suptitle(title)\n",
    "    \n",
    "    return response, fig"
   ]
  },
  {
   "cell_type": "code",
   "execution_count": 17,
   "metadata": {},
   "outputs": [
    {
     "data": {
      "image/png": "[encoded data removed]",
      "text/plain": [
       "<Figure size 936x360 with 4 Axes>"
      ]
     },
     "metadata": {},
     "output_type": "display_data"
    }
   ],
   "source": [
    "responses, fig = resplot(grid=v1_p10/cf, chamber=farmer.loc[1], title='Depth = 10 cm')\n",
    "fig.savefig('../images/grids_responses.png', dpi=300)"
   ]
  }
 ],
 "metadata": {
  "kernelspec": {
   "display_name": "Python 3",
   "language": "python",
   "name": "python3"
  },
  "language_info": {
   "codemirror_mode": {
    "name": "ipython",
    "version": 3
   },
   "file_extension": ".py",
   "mimetype": "text/x-python",
   "name": "python",
   "nbconvert_exporter": "python",
   "pygments_lexer": "ipython3",
   "version": "3.6.5"
  }
 },
 "nbformat": 4,
 "nbformat_minor": 4
}
